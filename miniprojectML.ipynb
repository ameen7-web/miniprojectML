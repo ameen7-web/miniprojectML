{
  "nbformat": 4,
  "nbformat_minor": 0,
  "metadata": {
    "colab": {
      "provenance": [],
      "authorship_tag": "ABX9TyNKAPYaUv1FsLBrlM53h/wa",
      "include_colab_link": true
    },
    "kernelspec": {
      "name": "python3",
      "display_name": "Python 3"
    },
    "language_info": {
      "name": "python"
    }
  },
  "cells": [
    {
      "cell_type": "markdown",
      "metadata": {
        "id": "view-in-github",
        "colab_type": "text"
      },
      "source": [
        "<a href=\"https://colab.research.google.com/github/ameen7-web/miniprojectML/blob/main/miniprojectML.ipynb\" target=\"_parent\"><img src=\"https://colab.research.google.com/assets/colab-badge.svg\" alt=\"Open In Colab\"/></a>"
      ]
    },
    {
      "cell_type": "code",
      "execution_count": null,
      "metadata": {
        "id": "hF59PnKDLPVa",
        "colab": {
          "base_uri": "https://localhost:8080/"
        },
        "outputId": "8faa4531-ec94-4329-946c-bf7113464aa3"
      },
      "outputs": [
        {
          "output_type": "stream",
          "name": "stderr",
          "text": [
            "/tmp/ipython-input-1-1089003998.py:21: FutureWarning: YF.download() has changed argument auto_adjust default to True\n",
            "  data = yf.download(ticker, start=start_date, end=end_date)\n",
            "[*********************100%***********************]  1 of 1 completed\n",
            "/usr/local/lib/python3.11/dist-packages/keras/src/layers/rnn/rnn.py:200: UserWarning: Do not pass an `input_shape`/`input_dim` argument to a layer. When using Sequential models, prefer using an `Input(shape)` object as the first layer in the model instead.\n",
            "  super().__init__(**kwargs)\n"
          ]
        },
        {
          "output_type": "stream",
          "name": "stdout",
          "text": [
            "Epoch 1/20\n",
            "\u001b[1m59/59\u001b[0m \u001b[32m━━━━━━━━━━━━━━━━━━━━\u001b[0m\u001b[37m\u001b[0m \u001b[1m9s\u001b[0m 58ms/step - loss: 0.0302 - val_loss: 7.9655e-04\n",
            "Epoch 2/20\n",
            "\u001b[1m59/59\u001b[0m \u001b[32m━━━━━━━━━━━━━━━━━━━━\u001b[0m\u001b[37m\u001b[0m \u001b[1m5s\u001b[0m 51ms/step - loss: 0.0013 - val_loss: 7.0735e-04\n",
            "Epoch 3/20\n",
            "\u001b[1m59/59\u001b[0m \u001b[32m━━━━━━━━━━━━━━━━━━━━\u001b[0m\u001b[37m\u001b[0m \u001b[1m4s\u001b[0m 63ms/step - loss: 8.6008e-04 - val_loss: 9.7324e-04\n",
            "Epoch 4/20\n",
            "\u001b[1m59/59\u001b[0m \u001b[32m━━━━━━━━━━━━━━━━━━━━\u001b[0m\u001b[37m\u001b[0m \u001b[1m3s\u001b[0m 57ms/step - loss: 8.8069e-04 - val_loss: 0.0019\n",
            "Epoch 5/20\n",
            "\u001b[1m41/59\u001b[0m \u001b[32m━━━━━━━━━━━━━\u001b[0m\u001b[37m━━━━━━━\u001b[0m \u001b[1m0s\u001b[0m 48ms/step - loss: 0.0011"
          ]
        }
      ],
      "source": [
        "# Simple Stock Prediction with LSTM and Basic Visualization\n",
        "\n",
        "import yfinance as yf\n",
        "import numpy as np\n",
        "import pandas as pd\n",
        "import matplotlib.pyplot as plt\n",
        "from sklearn.preprocessing import MinMaxScaler\n",
        "from sklearn.metrics import mean_squared_error\n",
        "from keras.models import Sequential\n",
        "from keras.layers import LSTM, Dense, Dropout\n",
        "from datetime import datetime, timedelta\n",
        "\n",
        "# --- Parameters ---\n",
        "ticker = 'AAPL'\n",
        "start_date = '2015-01-01'\n",
        "end_date = datetime.today().strftime('%Y-%m-%d')\n",
        "lookback = 60\n",
        "future_days = 30\n",
        "\n",
        "# --- Load Data ---\n",
        "data = yf.download(ticker, start=start_date, end=end_date)\n",
        "if data.empty:\n",
        "    raise ValueError(\"No data found\")\n",
        "\n",
        "# Only use 'Close' price for simplicity\n",
        "data = data[['Close']].dropna()\n",
        "\n",
        "# --- Scale Data ---\n",
        "scaler = MinMaxScaler()\n",
        "data_scaled = scaler.fit_transform(data)\n",
        "\n",
        "# --- Create Sequences ---\n",
        "X, y = [], []\n",
        "for i in range(lookback, len(data_scaled)):\n",
        "    X.append(data_scaled[i - lookback:i])\n",
        "    y.append(data_scaled[i])\n",
        "X, y = np.array(X), np.array(y)\n",
        "\n",
        "# --- Split Data ---\n",
        "split = int(len(X) * 0.8)\n",
        "X_train, X_test = X[:split], X[split:]\n",
        "y_train, y_test = y[:split], y[split:]\n",
        "\n",
        "# --- Build LSTM Model ---\n",
        "model = Sequential()\n",
        "model.add(LSTM(50, return_sequences=True, input_shape=(X_train.shape[1], 1)))\n",
        "model.add(Dropout(0.2))\n",
        "model.add(LSTM(50))\n",
        "model.add(Dropout(0.2))\n",
        "model.add(Dense(1))\n",
        "model.compile(optimizer='adam', loss='mse')\n",
        "\n",
        "# --- Train Model ---\n",
        "model.fit(X_train, y_train, epochs=20, batch_size=32, validation_split=0.1, verbose=1)\n",
        "\n",
        "# --- Predict Test Data ---\n",
        "predicted = model.predict(X_test)\n",
        "predicted = scaler.inverse_transform(predicted)\n",
        "y_test_actual = scaler.inverse_transform(y_test)\n",
        "\n",
        "# --- Predict Future ---\n",
        "last_sequence = data_scaled[-lookback:]\n",
        "future_predictions = []\n",
        "for _ in range(future_days):\n",
        "    pred_input = last_sequence[-lookback:].reshape(1, lookback, 1)\n",
        "    pred = model.predict(pred_input, verbose=0)[0][0]\n",
        "    future_predictions.append(pred)\n",
        "    last_sequence = np.append(last_sequence, [[pred]], axis=0)\n",
        "\n",
        "future_predictions = scaler.inverse_transform(np.array(future_predictions).reshape(-1, 1)).flatten()\n",
        "future_dates = pd.date_range(start=data.index[-1] + timedelta(days=1), periods=future_days)\n",
        "\n",
        "# --- Plot ---\n",
        "plt.figure(figsize=(12,6))\n",
        "plt.plot(data.index, data['Close'], label='Historical')\n",
        "plt.plot(data.index[-len(predicted):], predicted, label='Test Prediction')\n",
        "plt.plot(future_dates, future_predictions, label='Future Prediction', linestyle='--')\n",
        "plt.title(f\"{ticker} Stock Price Prediction\")\n",
        "plt.xlabel(\"Date\")\n",
        "plt.ylabel(\"Price\")\n",
        "plt.legend()\n",
        "plt.grid(True)\n",
        "plt.tight_layout()\n",
        "plt.show()\n"
      ]
    }
  ]
}